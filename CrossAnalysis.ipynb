{
 "cells": [
  {
   "cell_type": "code",
   "execution_count": null,
   "metadata": {},
   "outputs": [],
   "source": [
    "import numpy as np\n",
    "import GEOparse as gp\n",
    "import pandas as pd\n",
    "import scipy as sp\n",
    "import scipy.stats as stats\n",
    "import matplotlib.pyplot as plt\n",
    "from IPython.display import display\n",
    "import sklearn\n",
    "from sklearn.cluster import KMeans\n",
    "from sklearn.decomposition import PCA\n",
    "from scipy.cluster.hierarchy import dendrogram, linkage\n",
    "import seaborn\n",
    "import combat"
   ]
  },
  {
   "cell_type": "markdown",
   "metadata": {},
   "source": [
    "We download the data from the GSE dataset"
   ]
  },
  {
   "cell_type": "code",
   "execution_count": null,
   "metadata": {},
   "outputs": [],
   "source": [
    "gse1 = gp.get_GEO(geo=\"GSE157239\", destdir=\"./\")\n",
    "gse2 = gp.get_GEO(geo=\"GSE147232\", destdir=\"./\")"
   ]
  },
  {
   "cell_type": "code",
   "execution_count": null,
   "metadata": {},
   "outputs": [],
   "source": [
    "#print(gse2.gpls['GPL18058'].table)\n",
    "#print(gse2.gsms)\n",
    "values2 = []\n",
    "for _, v in gse2.gsms.items():\n",
    "    ids2 = v.table[\"ID_REF\"].to_numpy()\n",
    "    values2.append(v.table['VALUE'].to_numpy())\n",
    "values = np.stack(values, axis=-1)\n",
    "print(ids2)"
   ]
  },
  {
   "cell_type": "code",
   "execution_count": null,
   "metadata": {},
   "outputs": [],
   "source": [
    "# Significance level\n",
    "alpha = 0.01\n",
    "\n",
    "# Identifying which samples are controls\n",
    "control_columns = np.array([0, 1, 2, 4, 6, 9, 11, 15])\n",
    "c = np.zeros(16, dtype=bool)\n",
    "c[control_columns] = 1\n",
    "\n",
    "# Creating accessible matrices from the dataset\n",
    "values = []\n",
    "for k, v in gse1.gsms.items():\n",
    "    ids = v.table[\"ID_REF\"].to_numpy()\n",
    "    values.append(v.table['VALUE'].to_numpy())\n",
    "values = np.stack(values, axis=-1)\n",
    "\n",
    "raw_data = gse1.gpls['GPL21572'].table\n",
    "raw_data = raw_data[raw_data['Sequence Type'] == 'miRNA']\n",
    "raw_ids = raw_data['ID'].to_numpy()\n",
    "mirna_idxs = [i for i, x in enumerate(ids) if np.any(raw_ids == x)]\n",
    "mirna_ids = ids[mirna_idxs]\n",
    "values = values[mirna_idxs]\n",
    "print(\"Number of miRNA samples\", values.shape[0])\n",
    "\n",
    "mask = np.broadcast_to(c, (len(values), 16))\n",
    "\n",
    "controls = values[mask].reshape(-1, 8)\n",
    "samples = values[~mask].reshape(-1, 8)\n",
    "\n",
    "# Running one-way ANOVA analysis on the RNAs\n",
    "f_stats = stats.f_oneway(controls, samples, axis=-1)\n",
    "num_significant = np.sum(f_stats.pvalue < alpha)\n",
    "signif_ids = mirna_ids[f_stats.pvalue < alpha]\n",
    "\n",
    "\n",
    "# Sorting by p-value\n",
    "ids = np.array(ids)\n",
    "order = np.argsort(f_stats.pvalue)\n",
    "sorted_ids = ids[order]"
   ]
  },
  {
   "cell_type": "code",
   "execution_count": null,
   "metadata": {},
   "outputs": [],
   "source": [
    "signifs = []\n",
    "mirna_signif_ids = []\n",
    "for sig_id in signif_ids:\n",
    "    if not any(raw_data[\"ID\"] == sig_id):\n",
    "        continue\n",
    "    signifs.append(raw_data[raw_data[\"ID\"] == sig_id])\n",
    "    mirna_signif_ids.append(sig_id)\n",
    "\n",
    "signifs = pd.concat(signifs)\n",
    "mirna_signif_id_mask = [np.nonzero(ids == i)[0][0] for i in mirna_signif_ids]\n",
    "signifs.insert(17, \"P-value\", f_stats.pvalue[mirna_signif_id_mask])\n",
    "\n",
    "sorted_pvalues = np.copy(f_stats.pvalue)\n",
    "sorted_pvalues.sort()\n",
    "\n",
    "signif_indices = []\n",
    "for i in np.arange(len(f_stats.pvalue)):\n",
    "    if f_stats.pvalue[i] < alpha:\n",
    "        signif_indices.append(i)\n",
    "\n",
    "# Plotting distribution of p-values\n",
    "plt.hist(sorted_pvalues, bins = 20, color = 'magenta')\n",
    "plt.title('Distribution of p-values')\n",
    "plt.xlabel('p-value')\n",
    "plt.ylabel('Frequency')\n",
    "\n",
    "mirna_mask = signifs['Sequence Type'] == 'miRNA'\n",
    "mirna_signifs = signifs[mirna_mask]"
   ]
  },
  {
   "cell_type": "markdown",
   "metadata": {},
   "source": [
    "To determine if each gene is upregulated or downregulated, we compare the mean values against the control."
   ]
  },
  {
   "cell_type": "code",
   "execution_count": null,
   "metadata": {},
   "outputs": [],
   "source": [
    "regulations = np.mean(samples, axis=-1) > np.mean(controls, axis=-1)\n",
    "\n",
    "# True if upregulated, False if downregulated\n",
    "signif_regulations = regulations[mirna_signif_id_mask]\n",
    "\n",
    "labeled_sig_regs = np.stack([\n",
    "    signifs['Transcript ID(Array Design)'].to_numpy(),\n",
    "    signif_regulations\n",
    "], axis=-1)"
   ]
  },
  {
   "cell_type": "code",
   "execution_count": null,
   "metadata": {},
   "outputs": [],
   "source": [
    "# Creating table of p-values, regulation patterns, and functions of each miRNA of interest\n",
    "data = {'P-value': signifs['P-value'].values, \n",
    "        'Regulation (case vs. control)':['Upregulated', 'Downregulated', 'Upregulated', 'Downregulated', 'Downregulated', 'Upregulated', 'Downregulated', 'Downregulated', 'Downregulated', 'Upregulated', \n",
    "                                         'Upregulated', 'Upregulated', 'Upregulated', 'Upregulated', 'Upregulated', 'Downregulated', 'Downregulated', 'Downregulated', 'Downregulated', 'Downregulated'], \n",
    "        'Function':['Tumor suppression', 'Cell proliferation', 'Tumor suppression', 'DNA methylation', 'Regulates A\\u03B2', 'Cell proliferation', 'Cell proliferation', 'Cell proliferation',\n",
    "                   'Tumor suppression', 'Tumor suppression', 'Lipid metabolism', 'N/A', 'N/A', 'N/A', 'Tumor suppression', 'N/A', 'N/A', 'N/A', 'N/A', 'Regulate autoimmune disease']} \n",
    "\n",
    "\n",
    "df = pd.DataFrame(data, index =['miR-215-3p', 'miR-369-5p', 'miR-429', 'miR-767-5p', 'miR-1251-5p', 'miR-1470', 'miR-3180-5p', 'miR-4286', 'miR-500b-3p', 'miR-3912-5p', 'miR-3929', 'miR-4540', 'miR-4633-3p',\n",
    "                               'miR-4653-5p', 'miR-203b-5p', 'miR-4791', 'miR-5003-3p', 'miR-5093', 'miR-6877-5p', 'miR-7155-3p']) \n",
    "\n",
    "display(df)\n"
   ]
  },
  {
   "cell_type": "code",
   "execution_count": null,
   "metadata": {},
   "outputs": [],
   "source": [
    "# Normalizing data for clustering\n",
    "values_norm = values\n",
    "\n",
    "values_norm = values_norm - np.mean(values_norm, axis=-1, keepdims=True)\n",
    "values_norm = values_norm / np.std(values_norm, axis=-1, keepdims=True)"
   ]
  },
  {
   "cell_type": "code",
   "execution_count": null,
   "metadata": {},
   "outputs": [],
   "source": [
    "# K-means clustering\n",
    "sum_of_squared_distances = []\n",
    "for k in range(1, 40):\n",
    "    kmeans = KMeans(n_clusters = k).fit(values_norm)\n",
    "    sum_of_squared_distances.append(kmeans.inertia_)\n",
    "    \n",
    "plt.plot(range(1, 40), sum_of_squared_distances)\n",
    "plt.xlabel('k')\n",
    "plt.ylabel('Sum of Squared Distances')\n",
    "plt.show()\n"
   ]
  },
  {
   "cell_type": "code",
   "execution_count": null,
   "metadata": {},
   "outputs": [],
   "source": [
    "kmeans = KMeans(n_clusters = 8).fit(values_norm)\n",
    "\n",
    "#argmin, distance = sklearn.metrics.pairwise_distances_argmin_min(kmeans.cluster_centers_, values_norm)\n",
    "#print(ids[argmin])\n",
    "\n",
    "signif_labels_list = kmeans.labels_[signif_indices]\n",
    "mirna_signif_labels_list = signif_labels_list[0:20]\n",
    "\n",
    "print(mirna_signif_labels_list)"
   ]
  },
  {
   "cell_type": "code",
   "execution_count": null,
   "metadata": {},
   "outputs": [],
   "source": [
    "# Here we analyze the functions within each cluster above\n",
    "unknown_idxs = [mirna_signif_id_mask[i] for i in range(len(mirna_signif_id_mask)) if list(df['Function'])[i] == 'N/A']\n",
    "unknown_clusters = [mirna_signif_labels_list[i] for i in range(len(mirna_signif_id_mask)) if list(df['Function'])[i] == 'N/A']\n",
    "\n",
    "num_nearest = 5\n",
    "\n",
    "for unknown_idx, cluster in zip(unknown_idxs, unknown_clusters):\n",
    "    print(f\"Nearest items in cluster {cluster} with {raw_data['Transcript ID(Array Design)'][raw_data['ID'] == mirna_ids[unknown_idx]].item()}\")\n",
    "    in_cluster = (kmeans.labels_ == cluster)\n",
    "    cluster_center = kmeans.cluster_centers_[cluster]\n",
    "    \n",
    "    distances_to_center = values_norm[in_cluster] @ cluster_center\n",
    "    closest = np.argsort(distances_to_center)[-num_nearest:]\n",
    "    near_ids = mirna_ids[in_cluster][closest]\n",
    "    near = [raw_data[raw_data['ID'] == near_id] for near_id in near_ids]\n",
    "    display(pd.concat(near))\n",
    "\n"
   ]
  },
  {
   "cell_type": "code",
   "execution_count": null,
   "metadata": {},
   "outputs": [],
   "source": [
    "signif_level = 0.1\n",
    "order = np.argsort(kmeans.labels_[f_stats.pvalue < signif_level])\n",
    "clustered_values = values_norm[f_stats.pvalue < signif_level][order]\n",
    "value_df = pd.DataFrame(clustered_values)\n",
    "value_df.index = kmeans.labels_[f_stats.pvalue < signif_level][order]\n",
    "value_df.columns = [('Control ' if i in control_columns else 'Sample ') + str(i) for i in range(16)]\n",
    "seaborn.clustermap(value_df, cmap='mako', row_cluster=False, col_cluster=True)\n"
   ]
  },
  {
   "cell_type": "code",
   "execution_count": null,
   "metadata": {},
   "outputs": [],
   "source": [
    "# PCA\n",
    "pca = PCA(n_components = 16)\n",
    "pca.fit(values_norm)\n",
    "print(pca.explained_variance_ratio_)"
   ]
  },
  {
   "cell_type": "code",
   "execution_count": null,
   "metadata": {},
   "outputs": [],
   "source": [
    "clustering = linkage(values_norm[mirna_signif_id_mask])\n",
    "fig = plt.figure()\n",
    "\n",
    "dendrogram(\n",
    "    clustering,\n",
    "    labels = list(signifs['Transcript ID(Array Design)']),\n",
    "    leaf_rotation=90,\n",
    ")\n",
    "\n",
    "plt.show()"
   ]
  },
  {
   "cell_type": "code",
   "execution_count": null,
   "metadata": {},
   "outputs": [],
   "source": [
    "dendro_df = pd.DataFrame(values_norm[mirna_signif_id_mask])\n",
    "dendro_df.columns = [('Control ' if i in control_columns else 'Sample ') + str(i) for i in range(16)]\n",
    "dendro_df.index = list(signifs['Transcript ID(Array Design)'])\n",
    "display(seaborn.clustermap(dendro_df, cmap='coolwarm'))"
   ]
  }
 ],
 "metadata": {
  "kernelspec": {
   "display_name": "Python 3",
   "language": "python",
   "name": "python3"
  },
  "language_info": {
   "codemirror_mode": {
    "name": "ipython",
    "version": 3
   },
   "file_extension": ".py",
   "mimetype": "text/x-python",
   "name": "python",
   "nbconvert_exporter": "python",
   "pygments_lexer": "ipython3",
   "version": "3.9.0"
  }
 },
 "nbformat": 4,
 "nbformat_minor": 4
}
