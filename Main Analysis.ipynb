{
 "cells": [
  {
   "cell_type": "code",
   "execution_count": 5,
   "metadata": {},
   "outputs": [],
   "source": [
    "import numpy as np\n",
    "import GEOparse as gp"
   ]
  },
  {
   "cell_type": "markdown",
   "metadata": {},
   "source": [
    "Download data if it does not exist:"
   ]
  },
  {
   "cell_type": "code",
   "execution_count": 7,
   "metadata": {},
   "outputs": [
    {
     "name": "stderr",
     "output_type": "stream",
     "text": [
      "09-Nov-2020 01:19:14 DEBUG utils - Directory ./ already exists. Skipping.\n",
      "09-Nov-2020 01:19:14 INFO GEOparse - File already exist: using local version.\n",
      "09-Nov-2020 01:19:14 INFO GEOparse - Parsing ./GSE157239_family.soft.gz: \n",
      "09-Nov-2020 01:19:14 DEBUG GEOparse - DATABASE: GeoMiame\n",
      "09-Nov-2020 01:19:14 DEBUG GEOparse - SERIES: GSE157239\n",
      "09-Nov-2020 01:19:14 DEBUG GEOparse - PLATFORM: GPL21572\n",
      "09-Nov-2020 01:19:17 DEBUG GEOparse - SAMPLE: GSM4759790\n",
      "09-Nov-2020 01:19:18 DEBUG GEOparse - SAMPLE: GSM4759791\n",
      "09-Nov-2020 01:19:18 DEBUG GEOparse - SAMPLE: GSM4759792\n",
      "09-Nov-2020 01:19:18 DEBUG GEOparse - SAMPLE: GSM4759793\n",
      "09-Nov-2020 01:19:18 DEBUG GEOparse - SAMPLE: GSM4759794\n",
      "09-Nov-2020 01:19:18 DEBUG GEOparse - SAMPLE: GSM4759795\n",
      "09-Nov-2020 01:19:18 DEBUG GEOparse - SAMPLE: GSM4759796\n",
      "09-Nov-2020 01:19:18 DEBUG GEOparse - SAMPLE: GSM4759797\n",
      "09-Nov-2020 01:19:18 DEBUG GEOparse - SAMPLE: GSM4759798\n",
      "09-Nov-2020 01:19:18 DEBUG GEOparse - SAMPLE: GSM4759799\n",
      "09-Nov-2020 01:19:18 DEBUG GEOparse - SAMPLE: GSM4759800\n",
      "09-Nov-2020 01:19:18 DEBUG GEOparse - SAMPLE: GSM4759801\n",
      "09-Nov-2020 01:19:18 DEBUG GEOparse - SAMPLE: GSM4759802\n",
      "09-Nov-2020 01:19:18 DEBUG GEOparse - SAMPLE: GSM4759803\n",
      "09-Nov-2020 01:19:18 DEBUG GEOparse - SAMPLE: GSM4759804\n",
      "09-Nov-2020 01:19:18 DEBUG GEOparse - SAMPLE: GSM4759805\n"
     ]
    }
   ],
   "source": [
    "gse = gp.get_GEO(geo=\"GSE157239\", destdir=\"./\")"
   ]
  },
  {
   "cell_type": "code",
   "execution_count": 10,
   "metadata": {},
   "outputs": [
    {
     "name": "stdout",
     "output_type": "stream",
     "text": [
      "GSM example:\n",
      "(5, 3)\n"
     ]
    }
   ],
   "source": [
    "print(\"GSM example:\")\n",
    "for gsm_name, gsm in gse.gsms.items():\n",
    "    break\n",
    "    print(\"Name: \", gsm_name)\n",
    "    print(\"Metadata:\",)\n",
    "    for key, value in gsm.metadata.items():\n",
    "        print(\" - %s : %s\" % (key, \", \".join(value)))\n",
    "    print (\"Table data:\",)\n",
    "    print (gsm.table.head())\n",
    "    break\n",
    "\n",
    "print(gsm.table.head())"
   ]
  }
 ],
 "metadata": {
  "kernelspec": {
   "display_name": "Python 3",
   "language": "python",
   "name": "python3"
  },
  "language_info": {
   "codemirror_mode": {
    "name": "ipython",
    "version": 3
   },
   "file_extension": ".py",
   "mimetype": "text/x-python",
   "name": "python",
   "nbconvert_exporter": "python",
   "pygments_lexer": "ipython3",
   "version": "3.9.0"
  }
 },
 "nbformat": 4,
 "nbformat_minor": 4
}
